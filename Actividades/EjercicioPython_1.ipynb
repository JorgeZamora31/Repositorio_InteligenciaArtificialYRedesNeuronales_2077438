{
  "nbformat": 4,
  "nbformat_minor": 0,
  "metadata": {
    "colab": {
      "provenance": []
    },
    "kernelspec": {
      "name": "python3",
      "display_name": "Python 3"
    },
    "language_info": {
      "name": "python"
    }
  },
  "cells": [
    {
      "cell_type": "code",
      "execution_count": 6,
      "metadata": {
        "colab": {
          "base_uri": "https://localhost:8080/"
        },
        "id": "eyLGTNr6Ah5y",
        "outputId": "fa717876-df92-4f97-a044-3fcd663ca9b1"
      },
      "outputs": [
        {
          "output_type": "stream",
          "name": "stdout",
          "text": [
            "Cual es su nombre\n",
            "Ana\n",
            "No puedo saludarte\n"
          ]
        }
      ],
      "source": [
        "\"\"\"\n",
        "Nombre: Jorge Zamora Villarreal\n",
        "Matricula: 2077438\n",
        "Clase: Inteligencia Artificial. \n",
        "Título: A2, Ejercicios en Python\n",
        "\"\"\"\n",
        "print(\"Cual es su nombre\")\n",
        "nombre=input()\n",
        "x = \"Ana\"\n",
        "y = \"Juan\"\n",
        "z = \"Pedro\"\n",
        "\n",
        "if nombre==x:\n",
        "  print(\"No puedo saludarte\")\n",
        "elif nombre==y:\n",
        "  print(\"No puedo saludarte\")\n",
        "elif nombre==z:\n",
        "  print(\"No puedo saludarte\")    \n",
        "else:\n",
        "  print(\"Hola mucho gusto \" + nombre)"
      ]
    },
    {
      "cell_type": "code",
      "source": [
        "def SerieFibonacci(n):\n",
        "  fib=[0,1]\n",
        "  for i in range(2,n):\n",
        "    fib.append(fib[i-1] + fib[i-2])\n",
        "  return fib\n",
        "n = int(input(\"¿Cuántos números de la serie de Fibonacci quieres generar?\"))\n",
        "\n",
        "print(SerieFibonacci(n))"
      ],
      "metadata": {
        "id": "RukuY1mLq6m_",
        "colab": {
          "base_uri": "https://localhost:8080/"
        },
        "outputId": "99b8200d-cedc-4242-b4cb-17fef0c617b2"
      },
      "execution_count": 4,
      "outputs": [
        {
          "output_type": "stream",
          "name": "stdout",
          "text": [
            "¿Cuántos números de la serie de Fibonacci quieres generar?15\n",
            "[0, 1, 1, 2, 3, 5, 8, 13, 21, 34, 55, 89, 144, 233, 377]\n"
          ]
        }
      ]
    },
    {
      "cell_type": "code",
      "source": [
        "def invertir_lista(lista):\n",
        "  \n",
        "    n = len(lista)\n",
        "    for i in range(n//2):\n",
        "        lista[i], lista[n-i-1] = lista[n-i-1], lista[i]\n",
        "    return lista\n",
        "\n",
        "lista = input(\"Ingresa una lista de elementos separados por comas: \").split(\",\")\n",
        "lista = [int(elem) for elem in lista]\n",
        "\n",
        "# Invertimos la lista y la imprimimos\n",
        "lista_invertida = invertir_lista(lista)\n",
        "print(\"La lista invertida es:\", lista_invertida)\n"
      ],
      "metadata": {
        "id": "fP1n4RhCwks4",
        "colab": {
          "base_uri": "https://localhost:8080/"
        },
        "outputId": "8d842cb2-ee9a-4695-928e-731d4087f453"
      },
      "execution_count": 3,
      "outputs": [
        {
          "output_type": "stream",
          "name": "stdout",
          "text": [
            "Ingresa una lista de elementos separados por comas: 5,8,9,3,2,5,2,5,1,5\n",
            "La lista invertida es: [5, 1, 5, 2, 5, 2, 3, 9, 8, 5]\n"
          ]
        }
      ]
    }
  ]
}